{
 "cells": [
  {
   "cell_type": "markdown",
   "metadata": {},
   "source": [
    "# Working with CSV files"
   ]
  },
  {
   "cell_type": "code",
   "execution_count": 1,
   "metadata": {},
   "outputs": [],
   "source": [
    "import csv, os"
   ]
  },
  {
   "cell_type": "code",
   "execution_count": 2,
   "metadata": {},
   "outputs": [],
   "source": [
    "with open('emp.csv') as file:\n",
    "    line = 0\n",
    "    reader = csv.reader(file)\n",
    "    for row in reader:\n",
    "        if line == 0:\n",
    "            print(f'{\", \".join(row)}')\n",
    "            line += 1\n",
    "        else:\n",
    "            print(f'{row[0]} works in the {row[1]} department, and was born in {row[2]}.')"
   ]
  },
  {
   "cell_type": "markdown",
   "metadata": {},
   "source": [
    "<b>Using Dict Reader"
   ]
  },
  {
   "cell_type": "code",
   "execution_count": 3,
   "metadata": {},
   "outputs": [],
   "source": [
    "with open('emp.csv') as file:\n",
    "    reader = csv.DictReader(file)\n",
    "    print(f'{\", \".join(reader.fieldnames)}')\n",
    "    for row in reader:\n",
    "        print('{} works in the {} department, and was born in {}'.format(row['name'], row['department'], row['birthday month']))"
   ]
  },
  {
   "cell_type": "markdown",
   "metadata": {},
   "source": [
    "<b>Writing in to files"
   ]
  },
  {
   "cell_type": "code",
   "execution_count": 4,
   "metadata": {},
   "outputs": [],
   "source": [
    "data = [['name', 'department', 'birthday month'], ['Durgam Rajesh', 'Computers', ' November'], ['John Doe', 'Accounting', 'January'], ['Erica Meyers', 'IT', 'March'], ['Kalyani', 'Business', ' September']]\n",
    "with open('emp2.csv', 'w') as file:\n",
    "    writer = csv.writer(file, delimiter=',', quotechar='\"', quoting=csv.QUOTE_MINIMAL)\n",
    "#     writer.writerow(['name', 'department', 'DOB']) #write each row of list of items\n",
    "    writer.writerows(data)\n",
    "    "
   ]
  },
  {
   "cell_type": "code",
   "execution_count": 5,
   "metadata": {},
   "outputs": [
    {
     "name": "stdout",
     "output_type": "stream",
     "text": [
      "name,department,birthday month\n",
      "\n",
      "Durgam Rajesh,Computers, November\n",
      "\n",
      "John Doe,Accounting,January\n",
      "\n",
      "Erica Meyers,IT,March\n",
      "\n",
      "Kalyani,Business, September\n",
      "\n"
     ]
    }
   ],
   "source": [
    "!cat emp2.csv"
   ]
  },
  {
   "cell_type": "markdown",
   "metadata": {},
   "source": [
    "<b>Writing to csv using DictWriter"
   ]
  },
  {
   "cell_type": "code",
   "execution_count": 11,
   "metadata": {},
   "outputs": [],
   "source": [
    "with open('emp3.csv', 'w') as file:\n",
    "    fieldnames = ['emp_name', 'dept', 'birth month']\n",
    "    writer = csv.DictWriter(file, fieldnames)\n",
    "    writer.writeheader()\n",
    "    writer.writerow({'emp_name': 'Suresh Veenam', 'dept': 'Accounting', 'birth month': 'November'})\n",
    "    writer.writerow({'emp_name': 'Valentina Bladja', 'dept': 'IT', 'birth month': 'March'})"
   ]
  },
  {
   "cell_type": "code",
   "execution_count": 12,
   "metadata": {},
   "outputs": [
    {
     "name": "stdout",
     "output_type": "stream",
     "text": [
      "emp_name,dept,birth month\n",
      "\n",
      "Suresh Veenam,Accounting,November\n",
      "\n",
      "Valentina Bladja,IT,March\n",
      "\n"
     ]
    }
   ],
   "source": [
    "!cat emp3.csv"
   ]
  },
  {
   "cell_type": "code",
   "execution_count": null,
   "metadata": {},
   "outputs": [],
   "source": []
  }
 ],
 "metadata": {
  "kernelspec": {
   "display_name": "Python 3",
   "language": "python",
   "name": "python3"
  },
  "language_info": {
   "codemirror_mode": {
    "name": "ipython",
    "version": 3
   },
   "file_extension": ".py",
   "mimetype": "text/x-python",
   "name": "python",
   "nbconvert_exporter": "python",
   "pygments_lexer": "ipython3",
   "version": "3.8.0"
  }
 },
 "nbformat": 4,
 "nbformat_minor": 4
}
